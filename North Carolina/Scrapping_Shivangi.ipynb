{
 "cells": [
  {
   "cell_type": "code",
   "execution_count": 18,
   "id": "d6e7a023",
   "metadata": {},
   "outputs": [],
   "source": [
    "# reading .des file\n",
    "\n",
    "file_path = 'OFNT3AA1.des'\n",
    "description_list = []\n",
    "start_list = []\n",
    "length_list = []\n",
    "\n",
    "with open(file_path, 'r') as file:\n",
    "    for line in file:\n",
    "        list0 = line.split()\n",
    "#         print(list0)\n",
    "        description = list0[:-3]\n",
    "        description = description[1:]\n",
    "        description = \" \".join(description)\n",
    "        description_list.append(description)\n",
    "\n",
    "        start_list.append(list0[-2])\n",
    "        length_list.append(list0[-1])\n",
    "\n",
    "# description_list = description_list[1:]\n",
    "# start_list = start_list[1:]\n",
    "# length_list = length_list[1:]"
   ]
  },
  {
   "cell_type": "code",
   "execution_count": 20,
   "id": "e7b77dbd",
   "metadata": {},
   "outputs": [
    {
     "name": "stderr",
     "output_type": "stream",
     "text": [
      "100%|██████████| 1249346/1249346 [00:04<00:00, 308853.26it/s]\n"
     ]
    }
   ],
   "source": [
    "import pandas as pd\n",
    "import re\n",
    "from tqdm import tqdm\n",
    "from concurrent.futures import ThreadPoolExecutor\n",
    "\n",
    "def process(str1, begin, end):\n",
    "    ret = ''\n",
    "    i = begin\n",
    "    while i < end:\n",
    "        ret += str1[i]\n",
    "        i+=1\n",
    "    ret = ret.strip()\n",
    "\n",
    "    if '?' in ret:\n",
    "        ret = ''\n",
    "\n",
    "    return ret\n",
    "\n",
    "def process_line(str0):\n",
    "    row = []\n",
    "    for s, l in zip(start_list, length_list):\n",
    "        start = int(s) - 1\n",
    "        end = start + int(l)\n",
    "        row.append(process(str0, start, end))\n",
    "    \n",
    "    row_list.append(row)\n",
    "\n",
    "file_path = 'OFNT3AA1.dat'\n",
    "num_threads = 4\n",
    "\n",
    "# creating the df\n",
    "df = pd.DataFrame(columns=description_list)\n",
    "\n",
    "with open(file_path, 'r') as file:\n",
    "    lines = file.readlines()\n",
    "    \n",
    "row_list = []\n",
    "\n",
    "with ThreadPoolExecutor(max_workers=num_threads) as executor:\n",
    "    list(tqdm(executor.map(process_line, lines), total=len(lines)))\n",
    "\n",
    "df = pd.concat([df, pd.DataFrame(row_list, columns=description_list)], ignore_index=True)\n",
    "\n",
    "df.to_csv('OFNT3AA1.csv', index=False)"
   ]
  },
  {
   "cell_type": "code",
   "execution_count": 7,
   "id": "d1ac71e6",
   "metadata": {},
   "outputs": [],
   "source": [
    "# Profile\n",
    "# reading .des file\n",
    "\n",
    "file_path = 'INMT4AA1.des'\n",
    "description_list = []\n",
    "start_list = []\n",
    "length_list = []\n",
    "\n",
    "with open(file_path, 'r') as file:\n",
    "    for line in file:\n",
    "        list0 = line.split()\n",
    "        description = list0[:-3]\n",
    "        description = description[1:]\n",
    "        description = \" \".join(description)\n",
    "        description_list.append(description)\n",
    "\n",
    "        start_list.append(list0[-2])\n",
    "        length_list.append(list0[-1])\n",
    "\n",
    "description_list = description_list[1:]\n",
    "start_list = start_list[1:]\n",
    "length_list = length_list[1:]"
   ]
  },
  {
   "cell_type": "code",
   "execution_count": 9,
   "id": "adfdfc2b",
   "metadata": {},
   "outputs": [
    {
     "name": "stderr",
     "output_type": "stream",
     "text": [
      "100%|██████████| 485858/485858 [00:01<00:00, 244671.91it/s]\n"
     ]
    }
   ],
   "source": [
    "import pandas as pd\n",
    "import re\n",
    "from tqdm import tqdm\n",
    "from concurrent.futures import ThreadPoolExecutor\n",
    "\n",
    "def process(str1, begin, end):\n",
    "    ret = ''\n",
    "    i = begin\n",
    "    while i < end:\n",
    "        ret += str1[i]\n",
    "        i+=1\n",
    "    ret = ret.strip()\n",
    "\n",
    "    if '?' in ret:\n",
    "        ret = ''\n",
    "\n",
    "    return ret\n",
    "\n",
    "def process_line(str0):\n",
    "    row = []\n",
    "    for s, l in zip(start_list, length_list):\n",
    "        start = int(s) - 1\n",
    "        end = start + int(l)\n",
    "        row.append(process(str0, start, end))\n",
    "    \n",
    "    row_list.append(row)\n",
    "\n",
    "file_path = 'INMT4AA1.dat'\n",
    "num_threads = 4\n",
    "\n",
    "# creating the df\n",
    "df = pd.DataFrame(columns=description_list)\n",
    "\n",
    "with open(file_path, 'r') as file:\n",
    "    lines = file.readlines()\n",
    "    \n",
    "row_list = []\n",
    "\n",
    "with ThreadPoolExecutor(max_workers=num_threads) as executor:\n",
    "    list(tqdm(executor.map(process_line, lines), total=len(lines)))\n",
    "\n",
    "df = pd.concat([df, pd.DataFrame(row_list, columns=description_list)], ignore_index=True)\n",
    "\n",
    "df.to_csv('INMT4AA1.csv', index=False, escapechar='\\\\')"
   ]
  },
  {
   "cell_type": "code",
   "execution_count": null,
   "id": "90088c52",
   "metadata": {},
   "outputs": [],
   "source": []
  }
 ],
 "metadata": {
  "kernelspec": {
   "display_name": "Python 3 (ipykernel)",
   "language": "python",
   "name": "python3"
  },
  "language_info": {
   "codemirror_mode": {
    "name": "ipython",
    "version": 3
   },
   "file_extension": ".py",
   "mimetype": "text/x-python",
   "name": "python",
   "nbconvert_exporter": "python",
   "pygments_lexer": "ipython3",
   "version": "3.10.12"
  }
 },
 "nbformat": 4,
 "nbformat_minor": 5
}
