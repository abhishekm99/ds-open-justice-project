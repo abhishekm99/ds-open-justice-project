{
 "cells": [
  {
   "cell_type": "code",
   "execution_count": 153,
   "id": "e533a01a",
   "metadata": {},
   "outputs": [],
   "source": [
    "import pandas as pd\n",
    "import numpy as np\n",
    "import warnings\n",
    "\n",
    "# Suppress all warnings\n",
    "warnings.filterwarnings(\"ignore\")"
   ]
  },
  {
   "cell_type": "code",
   "execution_count": 154,
   "id": "4a35cf91",
   "metadata": {},
   "outputs": [],
   "source": [
    "# Reading all the csv files into dfs\n",
    "address = pd.read_csv('address_details.csv', dtype={'OFFENDER NC DOC ID NUMBER': str})\n",
    "county = pd.read_csv('county_details.csv', dtype={'OFFENDER NC DOC ID NUMBER': str})\n",
    "info = pd.read_csv('incar_info.csv', dtype={'INMATE DOC NUMBER': str})\n",
    "sen = pd.read_csv('sentence_and_release_details.csv', dtype={'INMATE DOC NUMBER': str})\n",
    "\n",
    "# Just keeping those rows which have common DOC ID in all dfs\n",
    "id1 = set(address[\"OFFENDER NC DOC ID NUMBER\"])\n",
    "id2 = set(county[\"OFFENDER NC DOC ID NUMBER\"])\n",
    "id3 = set(info[\"INMATE DOC NUMBER\"])\n",
    "id4 = set(sen[\"INMATE DOC NUMBER\"])\n",
    "\n",
    "common_ids = id1.intersection(id2, id3, id4)\n",
    "\n",
    "common_ids_list = list(common_ids)\n",
    "\n",
    "common_ids_series = pd.Series(common_ids_list)\n",
    "address = address[address['OFFENDER NC DOC ID NUMBER'].isin(common_ids_list)]\n",
    "county = county[county['OFFENDER NC DOC ID NUMBER'].isin(common_ids_list)]\n",
    "info = info[info['INMATE DOC NUMBER'].isin(common_ids_list)]\n",
    "sen = sen[sen['INMATE DOC NUMBER'].isin(common_ids_list)]\n",
    "\n",
    "# changing the name of DOC ID columns\n",
    "county.rename(columns={'OFFENDER NC DOC ID NUMBER': 'INMATE DOC NUMBER'}, inplace=True)\n",
    "address.rename(columns={'OFFENDER NC DOC ID NUMBER': 'INMATE DOC NUMBER'}, inplace=True)"
   ]
  },
  {
   "cell_type": "code",
   "execution_count": 155,
   "id": "d9afa2ea",
   "metadata": {},
   "outputs": [],
   "source": [
    "county_data = {\n",
    "    \"001\": \"Alamance\",\n",
    "    \"002\": \"Alexander\",\n",
    "    \"003\": \"Alleghany\",\n",
    "    \"004\": \"Anson\",\n",
    "    \"005\": \"Ashe\",\n",
    "    \"006\": \"Avery\",\n",
    "    \"007\": \"Beaufort\",\n",
    "    \"008\": \"Bertie\",\n",
    "    \"009\": \"Bladen\",\n",
    "    \"010\": \"Brunswick\",\n",
    "    \"011\": \"Buncombe\",\n",
    "    \"012\": \"Burke\",\n",
    "    \"013\": \"Cabarrus\",\n",
    "    \"014\": \"Caldwell\",\n",
    "    \"015\": \"Camden\",\n",
    "    \"016\": \"Carteret\",\n",
    "    \"017\": \"Caswell\",\n",
    "    \"018\": \"Catawba\",\n",
    "    \"019\": \"Chatham\",\n",
    "    \"020\": \"Cherokee\",\n",
    "    \"021\": \"Chowan\",\n",
    "    \"022\": \"Clay\",\n",
    "    \"023\": \"Cleveland\",\n",
    "    \"024\": \"Columbus\",\n",
    "    \"025\": \"Craven\",\n",
    "    \"026\": \"Cumberland\",\n",
    "    \"027\": \"Currituck\",\n",
    "    \"028\": \"Dare\",\n",
    "    \"029\": \"Davidson\",\n",
    "    \"030\": \"Davie\",\n",
    "    \"031\": \"Duplin\",\n",
    "    \"032\": \"Durham\",\n",
    "    \"033\": \"Edgecombe\",\n",
    "    \"034\": \"Forsyth\",\n",
    "    \"035\": \"Franklin\",\n",
    "    \"036\": \"Gaston\",\n",
    "    \"037\": \"Gates\",\n",
    "    \"038\": \"Graham\",\n",
    "    \"039\": \"Granville\",\n",
    "    \"040\": \"Greene\",\n",
    "    \"041\": \"Guilford\",\n",
    "    \"042\": \"Halifax\",\n",
    "    \"043\": \"Harnett\",\n",
    "    \"044\": \"Haywood\",\n",
    "    \"045\": \"Henderson\",\n",
    "    \"046\": \"Hertford\",\n",
    "    \"047\": \"Hoke\",\n",
    "    \"048\": \"Hyde\",\n",
    "    \"049\": \"Iredell\",\n",
    "    \"050\": \"Jackson\",\n",
    "    \"051\": \"Johnston\",\n",
    "    \"052\": \"Jones\",\n",
    "    \"053\": \"Lee\",\n",
    "    \"054\": \"Lenoir\",\n",
    "    \"055\": \"Lincoln\",\n",
    "    \"056\": \"Macon\",\n",
    "    \"057\": \"Madison\",\n",
    "    \"058\": \"Martin\",\n",
    "    \"059\": \"McDowell\",\n",
    "    \"060\": \"Mecklenburg\",\n",
    "    \"061\": \"Mitchell\",\n",
    "    \"062\": \"Montgomery\",\n",
    "    \"063\": \"Moore\",\n",
    "    \"064\": \"Nash\",\n",
    "    \"065\": \"New Hanover\",\n",
    "    \"066\": \"Northampton\",\n",
    "    \"067\": \"Onslow\",\n",
    "    \"068\": \"Orange\",\n",
    "    \"069\": \"Pamlico\",\n",
    "    \"070\": \"Pasquotank\",\n",
    "    \"071\": \"Pender\",\n",
    "    \"072\": \"Perquimans\",\n",
    "    \"073\": \"Person\",\n",
    "    \"074\": \"Pitt\",\n",
    "    \"075\": \"Polk\",\n",
    "    \"076\": \"Randolph\",\n",
    "    \"077\": \"Richmond\",\n",
    "    \"078\": \"Robeson\",\n",
    "    \"079\": \"Rockingham\",\n",
    "    \"080\": \"Rowan\",\n",
    "    \"081\": \"Rutherford\",\n",
    "    \"082\": \"Sampson\",\n",
    "    \"083\": \"Scotland\",\n",
    "    \"084\": \"Stanly\",\n",
    "    \"085\": \"Stokes\",\n",
    "    \"086\": \"Surry\",\n",
    "    \"087\": \"Swain\",\n",
    "    \"088\": \"Transylvania\",\n",
    "    \"089\": \"Tyrrell\",\n",
    "    \"090\": \"Union\",\n",
    "    \"091\": \"Vance\",\n",
    "    \"092\": \"Wake\",\n",
    "    \"093\": \"Warren\",\n",
    "    \"094\": \"Washington\",\n",
    "    \"095\": \"Watauga\",\n",
    "    \"096\": \"Wayne\",\n",
    "    \"097\": \"Wilkes\",\n",
    "    \"098\": \"Wilson\",\n",
    "    \"099\": \"Yadkin\",\n",
    "    \"100\": \"Yancey\",\n",
    "    \"Out-of-state\": \"999\"\n",
    "}"
   ]
  },
  {
   "cell_type": "code",
   "execution_count": 156,
   "id": "8c89c10a",
   "metadata": {},
   "outputs": [
    {
     "name": "stdout",
     "output_type": "stream",
     "text": [
      "Requirement already satisfied: census in /Users/shivangidhiman/opt/anaconda3/envs/CS506/lib/python3.9/site-packages (0.8.20)\n",
      "Requirement already satisfied: us in /Users/shivangidhiman/opt/anaconda3/envs/CS506/lib/python3.9/site-packages (3.1.1)\n",
      "Requirement already satisfied: requests>=1.1.0 in /Users/shivangidhiman/opt/anaconda3/envs/CS506/lib/python3.9/site-packages (from census) (2.28.1)\n",
      "Requirement already satisfied: jellyfish==0.11.2 in /Users/shivangidhiman/opt/anaconda3/envs/CS506/lib/python3.9/site-packages (from us) (0.11.2)\n",
      "Requirement already satisfied: certifi>=2017.4.17 in /Users/shivangidhiman/opt/anaconda3/envs/CS506/lib/python3.9/site-packages (from requests>=1.1.0->census) (2022.12.7)\n",
      "Requirement already satisfied: urllib3<1.27,>=1.21.1 in /Users/shivangidhiman/opt/anaconda3/envs/CS506/lib/python3.9/site-packages (from requests>=1.1.0->census) (1.26.14)\n",
      "Requirement already satisfied: idna<4,>=2.5 in /Users/shivangidhiman/opt/anaconda3/envs/CS506/lib/python3.9/site-packages (from requests>=1.1.0->census) (3.4)\n",
      "Requirement already satisfied: charset-normalizer<3,>=2 in /Users/shivangidhiman/opt/anaconda3/envs/CS506/lib/python3.9/site-packages (from requests>=1.1.0->census) (2.0.4)\n"
     ]
    }
   ],
   "source": [
    "!pip install census us"
   ]
  },
  {
   "cell_type": "code",
   "execution_count": 157,
   "id": "2ceea7b5",
   "metadata": {},
   "outputs": [
    {
     "name": "stdout",
     "output_type": "stream",
     "text": [
      "State: North Carolina\n",
      "Population: 10264876.0\n"
     ]
    }
   ],
   "source": [
    "from census import Census\n",
    "from us import states\n",
    "\n",
    "API_KEY = '8c7d0af17c7bac1402d00779c41820156439acdb'\n",
    "c = Census(API_KEY)\n",
    "\n",
    "# Get population data for North Carolina from the latest available year (let's say 2019 as an example)\n",
    "nc_data = c.acs5.state(('NAME', 'B01003_001E'), states.NC.fips, year=2019)\n",
    "\n",
    "# Extract and print the data\n",
    "for data in nc_data:\n",
    "    print(f\"State: {data['NAME']}\")\n",
    "    print(f\"Population: {data['B01003_001E']}\")"
   ]
  },
  {
   "cell_type": "code",
   "execution_count": 158,
   "id": "770386b6",
   "metadata": {},
   "outputs": [],
   "source": [
    "def fetch_data_by_county_acs(Year):\n",
    "    # Define fields to fetch\n",
    "    # Note: ACS might use different field codes than the decennial census!\n",
    "    fields = (\n",
    "        'NAME', 'B01001_001E', 'B02001_002E', 'B02001_003E', 'B02001_004E', \n",
    "        'B02001_005E', 'B01001_002E', 'B01001_026E', 'B03002_003E',  'B19013_001E', 'B19013A_001E', \n",
    "        'B19013B_001E', 'B19013C_001E', 'B19013D_001E', 'B19013E_001E', 'B19013F_001E', 'B19013G_001E', \n",
    "        'B19013I_001E', 'B16001_002E', 'B16001_003E', 'B16001_006E', 'B16001_009E', 'B16001_012E'\n",
    "   \n",
    "    )\n",
    "\n",
    "    # Fetch data from ACS 2005-2009 5-year estimates\n",
    "    data = c.acs5.state_county(fields, states.NC.fips, '*', year=Year)  # 5-Year Estimates for 2005-2009 are labeled as 2009\n",
    "\n",
    "    # Create a list to store the structured data\n",
    "    rows = []\n",
    "    for entry in data:\n",
    "        row = {\n",
    "            'County': entry['NAME'],\n",
    "            'Total Population': entry['B01001_001E'],\n",
    "            'White Population': entry['B02001_002E'],\n",
    "            'Black or African American Population': entry['B02001_003E'],\n",
    "            'American Indian and Alaska Native Population': entry['B02001_004E'],\n",
    "            'Asian Population': entry['B02001_005E'],\n",
    "            'Male Population': entry['B01001_002E'],\n",
    "            'Female Population': entry['B01001_026E'],\n",
    "            'Hispanic or Latino Population': entry['B03002_003E'],\n",
    "            'Median Household Income (Overall)': entry['B19013_001E'],\n",
    "            'Median Household Income (White Alone)': entry['B19013A_001E'],\n",
    "            'Median Household Income (Black or African American Alone)': entry['B19013B_001E'],\n",
    "            'Median Household Income (American Indian and Alaska Native Alone)': entry['B19013C_001E'],\n",
    "            'Median Household Income (Asian Alone)': entry['B19013D_001E'],\n",
    "            'Median Household Income (Native Hawaiian and Other Pacific Islander Alone)': entry['B19013E_001E'],\n",
    "            'Median Household Income (Some Other Race Alone)': entry['B19013F_001E'],\n",
    "            'Median Household Income (Two or More Races)': entry['B19013G_001E'],\n",
    "            'Median Household Income (Hispanic or Latino)': entry['B19013I_001E'],\n",
    "            'Speak Only English at Home (Population 5 years and over)': entry['B16001_002E'],\n",
    "            'Speak Spanish at Home (Population 5 years and over)': entry['B16001_003E'],\n",
    "            'Speak Other Indo-European Languages at Home (Population 5 years and over)': entry['B16001_006E'],\n",
    "            'Speak Asian and Pacific Island Languages at Home (Population 5 years and over)': entry['B16001_009E'],\n",
    "            'Speak Other Languages at Home (Population 5 years and over)': entry['B16001_012E']\n",
    "        }\n",
    "        rows.append(row)\n",
    "\n",
    "    # Convert the list to a pandas DataFrame\n",
    "    df = pd.DataFrame(rows)\n",
    "    df['Year'] = Year\n",
    "    return df"
   ]
  },
  {
   "cell_type": "code",
   "execution_count": 159,
   "id": "51546164",
   "metadata": {},
   "outputs": [],
   "source": [
    "# Define the column names\n",
    "columns = ['County', 'Total Population', 'White Population',\n",
    "       'Black or African American Population',\n",
    "       'American Indian and Alaska Native Population', 'Asian Population',\n",
    "       'Male Population', 'Female Population', 'Hispanic or Latino Population',\n",
    "       'Median Household Income (Overall)',\n",
    "       'Median Household Income (White Alone)',\n",
    "       'Median Household Income (Black or African American Alone)',\n",
    "       'Median Household Income (American Indian and Alaska Native Alone)',\n",
    "       'Median Household Income (Asian Alone)',\n",
    "       'Median Household Income (Native Hawaiian and Other Pacific Islander Alone)',\n",
    "       'Median Household Income (Some Other Race Alone)',\n",
    "       'Median Household Income (Two or More Races)',\n",
    "       'Median Household Income (Hispanic or Latino)',\n",
    "       'Speak Only English at Home (Population 5 years and over)',\n",
    "       'Speak Spanish at Home (Population 5 years and over)',\n",
    "       'Speak Other Indo-European Languages at Home (Population 5 years and over)',\n",
    "       'Speak Asian and Pacific Island Languages at Home (Population 5 years and over)',\n",
    "       'Speak Other Languages at Home (Population 5 years and over)', 'Year']\n",
    "\n",
    "# Create an empty DataFrame with the specified columns\n",
    "nc = pd.DataFrame(columns=columns)\n",
    "\n",
    "for year in range(2009, 2022):\n",
    "    nc_temp = fetch_data_by_county_acs(year)\n",
    "    global nc\n",
    "    nc = pd.concat([nc, nc_temp], ignore_index=True)"
   ]
  },
  {
   "cell_type": "code",
   "execution_count": 160,
   "id": "feee5cd0",
   "metadata": {},
   "outputs": [],
   "source": [
    "nc.to_csv('NC_Census_By_County_Population_and_Income.csv', index=False)"
   ]
  },
  {
   "cell_type": "code",
   "execution_count": 121,
   "id": "f9d26e87",
   "metadata": {},
   "outputs": [],
   "source": [
    "# county.columns"
   ]
  },
  {
   "cell_type": "code",
   "execution_count": 122,
   "id": "c6226903",
   "metadata": {},
   "outputs": [],
   "source": [
    "# info.columns"
   ]
  },
  {
   "cell_type": "code",
   "execution_count": 161,
   "id": "60a708f2",
   "metadata": {},
   "outputs": [],
   "source": [
    "# Merge the DataFrames on 'ID NUMBER'\n",
    "merged_df = county.merge(info[['INMATE DOC NUMBER', 'INMATE LAST NAME', 'INMATE FIRST NAME', 'INMATE MIDDLE INITIAL', 'INMATE NAME SUFFIX', 'INMATE NAME SOUNDEX CODE', 'INMATE GENDER CODE', 'INMATE RACE CODE', 'INMATE BIRTH DATE', 'INMATE ETHNIC AFFILIATION', 'INMATE ADMISSION DATE']], on='INMATE DOC NUMBER', how='left')"
   ]
  },
  {
   "cell_type": "code",
   "execution_count": 162,
   "id": "244ce0df",
   "metadata": {},
   "outputs": [],
   "source": [
    "# Assuming you have merged_df from the previous step\n",
    "def extract_year(date_str):\n",
    "    try:\n",
    "        return pd.to_datetime(date_str).year\n",
    "    except pd.errors.OutOfBoundsDatetime:\n",
    "        return np.nan\n",
    "\n",
    "merged_df['Year of Sentence'] = merged_df['SENTENCE EFFECTIVE(BEGIN) DATE'].apply(extract_year)"
   ]
  },
  {
   "cell_type": "code",
   "execution_count": 125,
   "id": "df6b76b9",
   "metadata": {},
   "outputs": [],
   "source": [
    "# merged_df.head()"
   ]
  },
  {
   "cell_type": "code",
   "execution_count": 163,
   "id": "7f5e701c",
   "metadata": {},
   "outputs": [],
   "source": [
    "filtered_df = merged_df[(merged_df['Year of Sentence'] >= 2009) & (merged_df['Year of Sentence'] <= 2021)]\n",
    "filtered_df = filtered_df[filtered_df['COUNTY OF CONVICTION CODE'] != '']\n",
    "filtered_df = filtered_df[filtered_df['COUNTY OF CONVICTION CODE'] != 'OUT OF STATE']\n",
    "filtered_df['INMATE RACE CODE'] = filtered_df['INMATE RACE CODE'].replace('UNKNOWN', 'OTHER')\n"
   ]
  },
  {
   "cell_type": "code",
   "execution_count": 164,
   "id": "6206c699",
   "metadata": {},
   "outputs": [],
   "source": [
    "filtered_df['County'] = filtered_df['COUNTY OF CONVICTION CODE'].apply(lambda x: f'{x.strip().lower().title()} County, North Carolina')"
   ]
  },
  {
   "cell_type": "code",
   "execution_count": 128,
   "id": "0587c6bf",
   "metadata": {},
   "outputs": [],
   "source": [
    "# nc['County'].unique()"
   ]
  },
  {
   "cell_type": "code",
   "execution_count": 129,
   "id": "26bebcf8",
   "metadata": {},
   "outputs": [],
   "source": [
    "# filtered_df['County'].unique()"
   ]
  },
  {
   "cell_type": "code",
   "execution_count": 165,
   "id": "c2b3f980",
   "metadata": {},
   "outputs": [
    {
     "data": {
      "text/plain": [
       "array(['WHITE', 'BLACK/AFRICAN AMERICAN',\n",
       "       'AMERICAN INDIAN/ALASKAN NATIVE', 'OTHER', 'ASIAN/ASIAN AMERICAN',\n",
       "       'HAWAIIAN/PACIFIC ISLANDER'], dtype=object)"
      ]
     },
     "execution_count": 165,
     "metadata": {},
     "output_type": "execute_result"
    }
   ],
   "source": [
    "filtered_df['INMATE RACE CODE'].unique()"
   ]
  },
  {
   "cell_type": "code",
   "execution_count": 166,
   "id": "2cd83a07",
   "metadata": {},
   "outputs": [],
   "source": [
    "filtered_df.drop('Unnamed: 0', axis=1, inplace=True)"
   ]
  },
  {
   "cell_type": "code",
   "execution_count": 167,
   "id": "6991cfa0",
   "metadata": {},
   "outputs": [
    {
     "data": {
      "text/plain": [
       "INMATE DOC NUMBER                 929921\n",
       "COUNTY OF CONVICTION CODE         929921\n",
       "PRIMARY OFFENSE CODE              929921\n",
       "DATE OFFENSE COMMITTED - BEGIN    929921\n",
       "DATE OFFENSE COMMITTED - END      929921\n",
       "PRIMARY FELONY/MISDEMEANOR CD.    929921\n",
       "PRIOR RCD. POINTS/CONVICTIONS     929921\n",
       "MINIMUM SENTENCE LENGTH           929921\n",
       "MAXIMUM SENTENCE LENGTH           929921\n",
       "CREDITS FOR JAIL DAYS SERVED      929921\n",
       "SENTENCE CONVICTION DATE          929921\n",
       "SENTENCE EFFECTIVE(BEGIN) DATE    929921\n",
       "DATE OF LAST UPDATE               929921\n",
       "INMATE LAST NAME                  929906\n",
       "INMATE FIRST NAME                 929921\n",
       "INMATE MIDDLE INITIAL             751799\n",
       "INMATE NAME SUFFIX                 55280\n",
       "INMATE NAME SOUNDEX CODE          496610\n",
       "INMATE GENDER CODE                929921\n",
       "INMATE RACE CODE                  929921\n",
       "INMATE BIRTH DATE                 929921\n",
       "INMATE ETHNIC AFFILIATION         929135\n",
       "INMATE ADMISSION DATE             929921\n",
       "Year of Sentence                  929921\n",
       "County                            929921\n",
       "dtype: int64"
      ]
     },
     "execution_count": 167,
     "metadata": {},
     "output_type": "execute_result"
    }
   ],
   "source": [
    "filtered_df.count()"
   ]
  },
  {
   "cell_type": "code",
   "execution_count": 168,
   "id": "00115d9b",
   "metadata": {},
   "outputs": [],
   "source": [
    "# Group by 'Year of Sentence' and 'Formatted County', and sum the races\n",
    "grouped = filtered_df.groupby(['Year of Sentence', 'County'])['INMATE RACE CODE'].value_counts().unstack(fill_value=0)\n",
    "\n",
    "# Reset the index to make 'Year of Sentence' and 'Formatted County' regular columns\n",
    "grouped = grouped.reset_index()\n",
    "grouped['Year of Sentence'] = grouped['Year of Sentence'].astype(int)"
   ]
  },
  {
   "cell_type": "code",
   "execution_count": 134,
   "id": "53dbdfb4",
   "metadata": {},
   "outputs": [],
   "source": [
    "# grouped.head(100)"
   ]
  },
  {
   "cell_type": "code",
   "execution_count": 169,
   "id": "49db4ba9",
   "metadata": {},
   "outputs": [],
   "source": [
    "grouped.to_csv('NC_By_Year_And_County_Offences_Counts.csv', index=False)"
   ]
  }
 ],
 "metadata": {
  "kernelspec": {
   "display_name": "Python 3",
   "language": "python",
   "name": "python3"
  },
  "language_info": {
   "codemirror_mode": {
    "name": "ipython",
    "version": 3
   },
   "file_extension": ".py",
   "mimetype": "text/x-python",
   "name": "python",
   "nbconvert_exporter": "python",
   "pygments_lexer": "ipython3",
   "version": "3.9.16"
  }
 },
 "nbformat": 4,
 "nbformat_minor": 5
}
